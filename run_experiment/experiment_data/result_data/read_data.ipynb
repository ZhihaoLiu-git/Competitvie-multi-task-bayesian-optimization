{
 "cells": [
  {
   "cell_type": "code",
   "execution_count": 6,
   "id": "527f44cf",
   "metadata": {
    "ExecuteTime": {
     "end_time": "2023-01-22T12:45:03.174266Z",
     "start_time": "2023-01-22T12:45:02.077083Z"
    }
   },
   "outputs": [],
   "source": [
    "import os\n",
    "import numpy as np\n",
    "np.seterr(divide='ignore')\n",
    "import pandas as pd\n",
    "import GPy\n",
    "import random\n",
    "import pickle\n",
    "from sklearn.svm import SVC, SVR\n",
    "from sklearn import metrics, datasets\n",
    "from matplotlib import pyplot as plt\n",
    "from sklearn.model_selection import KFold, StratifiedKFold, cross_val_score, train_test_split\n",
    "from scipy.stats import qmc"
   ]
  },
  {
   "cell_type": "code",
   "execution_count": 7,
   "id": "b0aa6f1d",
   "metadata": {
    "ExecuteTime": {
     "end_time": "2023-01-22T12:45:03.236293Z",
     "start_time": "2023-01-22T12:45:03.190706Z"
    }
   },
   "outputs": [
    {
     "ename": "NameError",
     "evalue": "name 'elgible_select_dict' is not defined",
     "output_type": "error",
     "traceback": [
      "\u001b[1;31m---------------------------------------------------------------------------\u001b[0m",
      "\u001b[1;31mNameError\u001b[0m                                 Traceback (most recent call last)",
      "Input \u001b[1;32mIn [7]\u001b[0m, in \u001b[0;36m<cell line: 1>\u001b[1;34m()\u001b[0m\n\u001b[1;32m----> 1\u001b[0m \u001b[38;5;28;01mdef\u001b[39;00m \u001b[38;5;21mplot_trials\u001b[39m(all_opt_results\u001b[38;5;241m=\u001b[39m\u001b[38;5;28;01mNone\u001b[39;00m, save_flag\u001b[38;5;241m=\u001b[39m\u001b[38;5;28;01mFalse\u001b[39;00m, select_dict\u001b[38;5;241m=\u001b[39m\u001b[43melgible_select_dict\u001b[49m):\n\u001b[0;32m      2\u001b[0m     cr_list \u001b[38;5;241m=\u001b[39m \u001b[38;5;28mlist\u001b[39m(\u001b[38;5;28mrange\u001b[39m(\u001b[38;5;28mlen\u001b[39m(all_opt_results)))\n\u001b[0;32m      3\u001b[0m     num_task \u001b[38;5;241m=\u001b[39m all_opt_results[\u001b[38;5;241m0\u001b[39m]\u001b[38;5;241m.\u001b[39mshape[\u001b[38;5;241m0\u001b[39m]\n",
      "\u001b[1;31mNameError\u001b[0m: name 'elgible_select_dict' is not defined"
     ]
    }
   ],
   "source": [
    "def plot_trials(all_opt_results=None, save_flag=False, select_dict=elgible_select_dict):\n",
    "    cr_list = list(range(len(all_opt_results)))\n",
    "    num_task = all_opt_results[0].shape[0]\n",
    "    trials = all_opt_results[0].shape[1]\n",
    "    budget = all_opt_results[0].shape[2]\n",
    "    select_dict = elgible_select_dict\n",
    "    fig, ax = plt.subplots(figsize=(20, 12), tight_layout=True)\n",
    "    x_all_ticks = np.arange(1, budget+1, step=1)\n",
    "    marker_size = 15\n",
    "    y_font_size = 6\n",
    "    x_font_size = 6\n",
    "    colors_task = ['#1f77b4', '#ff7f0e', '#2ca02c', '#d62728', '#9467bd','#8c564b', '#17becf', '#7f7f7f', '#bcbd22', '#e377c2']\n",
    "    markers_af = [\"^\", \"s\", \"o\", \"*\",  \"v\", \"d\", \"x\", \"p\", \"+\", \"h\"]\n",
    "    linestyle =  ['solid', 'dotted', 'dashed', 'dashdot']\n",
    "    for cr, cr_opt_result in eligible_all_opt_results.items():\n",
    "        for t in range(num_task):\n",
    "            m = cr_opt_result[t].mean(axis=0)\n",
    "            s = cr_opt_result[t].std(axis=0)\n",
    "            task_count_select = np.unique(select_dict[cr], return_counts=True)[1][t] - trials # delete init_select\n",
    "            ax.plot(x_all_ticks, m, linewidth=3, label=f\"c{cr}_t{t}_s{task_count_select}\"\n",
    "                    , color=colors_task[t],  linestyle=linestyle[cr], markevery=5)\n",
    "            ax.fill_between(x_all_ticks, m-0.2*s, m+0.2*s, color=colors_task[t], alpha=0.2)\n",
    "\n",
    "    ax.set_xlabel(\"Function evaluations\", fontsize=x_font_size)\n",
    "    ax.set_ylabel(\"Accuracy\", fontsize=y_font_size)\n",
    "    plt.legend(prop={'size': 20})\n",
    "    title_name = f\"{data_name}_trials={trials}, budget={budget}, criterion={cr_list},betat={betat}, betap={betap}\"\n",
    "    if save_flag:\n",
    "        save_list = [all_opt_results, x_id_dict, points_dict, select_dict]\n",
    "        output = open(result_path + title_name, 'wb')\n",
    "        pickle.dump(save_list, output)\n",
    "        output.close()\n",
    "        if os.path.exists(filename):\n",
    "            filename = filename[:-4] + '_a' + '.pdf'\n",
    "            plt.savefig(filename, dpi=300)\n",
    "        else:\n",
    "            plt.savefig(filename, dpi=300)\n",
    "\n",
    "    plt.title(title_name, fontsize=15)\n",
    "    plt.show()"
   ]
  },
  {
   "cell_type": "markdown",
   "id": "4965db6f",
   "metadata": {},
   "source": [
    "save_list = [all_opt_results, x_id_dict, points_dict, select_dict]"
   ]
  },
  {
   "cell_type": "code",
   "execution_count": 11,
   "id": "80d77feb",
   "metadata": {
    "ExecuteTime": {
     "end_time": "2023-01-22T12:47:29.822156Z",
     "start_time": "2023-01-22T12:47:29.775146Z"
    }
   },
   "outputs": [
    {
     "name": "stdout",
     "output_type": "stream",
     "text": [
      "cr_list= [0, 1, 2, 3]    num_task= 3   budget= 50\n",
      "[]\n",
      "[]\n"
     ]
    },
    {
     "ename": "NameError",
     "evalue": "name 'all_opt_results' is not defined",
     "output_type": "error",
     "traceback": [
      "\u001b[1;31m---------------------------------------------------------------------------\u001b[0m",
      "\u001b[1;31mNameError\u001b[0m                                 Traceback (most recent call last)",
      "Input \u001b[1;32mIn [11]\u001b[0m, in \u001b[0;36m<cell line: 24>\u001b[1;34m()\u001b[0m\n\u001b[0;32m     20\u001b[0m \u001b[38;5;28mprint\u001b[39m(eligible_trial[:\u001b[38;5;241m10\u001b[39m])\n\u001b[0;32m     23\u001b[0m eligible_all_opt_results \u001b[38;5;241m=\u001b[39m {}\n\u001b[1;32m---> 24\u001b[0m \u001b[38;5;28;01mfor\u001b[39;00m cr, cr_opt_result \u001b[38;5;129;01min\u001b[39;00m \u001b[43mall_opt_results\u001b[49m\u001b[38;5;241m.\u001b[39mitems():\n\u001b[0;32m     25\u001b[0m     eligible_cr_opt_result \u001b[38;5;241m=\u001b[39m \u001b[38;5;241m-\u001b[39m\u001b[38;5;241m100\u001b[39m\u001b[38;5;241m*\u001b[39mnp\u001b[38;5;241m.\u001b[39mones(shape\u001b[38;5;241m=\u001b[39m[\u001b[38;5;28mlen\u001b[39m(cr_list), eligible_trial\u001b[38;5;241m.\u001b[39mshape[\u001b[38;5;241m0\u001b[39m], budget])\n\u001b[0;32m     26\u001b[0m     \u001b[38;5;28;01mfor\u001b[39;00m i, trial_index \u001b[38;5;129;01min\u001b[39;00m \u001b[38;5;28menumerate\u001b[39m(eligible_trial):\n",
      "\u001b[1;31mNameError\u001b[0m: name 'all_opt_results' is not defined"
     ]
    }
   ],
   "source": [
    "data_path = r\"D:\\Jupyter_Projs\\W\\MTBO\\run_experiment\\experiment_data\\result_data\\ksvc\\glass\\ksvc_trials=30, budget=50, criterion=[0, 1, 2, 3],betat=[2, 2, 0, 0], betap=[3, 2, 2, 2]\"\n",
    "with open(data_path, 'rb') as save_file:\n",
    "    result = pickle.load(save_file)\n",
    "    \n",
    "data_name = 'wine'\n",
    "all_opt_results_dict, x_id_dict, points_dict, select_dict = result[0], result[1], result[2], result[3]\n",
    "cr_list = list(range(len(x_id_dict)))\n",
    "num_task = x_id_dict[0].shape[-3]\n",
    "trials = x_id_dict[0].shape[-2]\n",
    "budget = x_id_dict[0].shape[-1]\n",
    "betat=[1, 1000, 0, 0]\n",
    "betap=[1000, 1000, 1000, 1000]\n",
    "print(\"cr_list=\",cr_list, \"   num_task=\", num_task, \"  budget=\", budget)\n",
    "\n",
    "time_select_task3 = []\n",
    "for i in range(trials):  \n",
    "    time_select_task3.append(np.count_nonzero(select_dict[1][i] == 3))\n",
    "eligible_trial = np.where(np.array(time_select_task3) > 0.3*budget)[0]\n",
    "print(eligible_trial)\n",
    "print(eligible_trial[:10])\n",
    "\n",
    "\n",
    "eligible_all_opt_results = {}\n",
    "for cr, cr_opt_result in all_opt_results.items():\n",
    "    eligible_cr_opt_result = -100*np.ones(shape=[len(cr_list), eligible_trial.shape[0], budget])\n",
    "    for i, trial_index in enumerate(eligible_trial):\n",
    "        eligible_all_opt_results[cr] = cr_opt_result[:, eligible_trial[:10], :]\n",
    "\n",
    "\n",
    "elgible_select_dict = {}\n",
    "for cr, s in select_dict.items():\n",
    "    elgible_select_dict[cr] = s[eligible_trial[:10], :]\n",
    "plot_trials(eligible_all_opt_results, save_flag=False, select_dict=elgible_select_dict)\n"
   ]
  },
  {
   "cell_type": "code",
   "execution_count": null,
   "id": "89e707a5",
   "metadata": {},
   "outputs": [],
   "source": [
    "# print(f'cr={len(points_dict)}', f'trials={len(points_dict[0])}', f'task={len(points_dict[0][0])}', points_dict[0][0][0]['X'].shape)"
   ]
  },
  {
   "cell_type": "code",
   "execution_count": 4,
   "id": "a8e3a8ea",
   "metadata": {
    "ExecuteTime": {
     "end_time": "2023-01-22T12:44:42.103361Z",
     "start_time": "2023-01-22T12:44:42.078356Z"
    }
   },
   "outputs": [
    {
     "ename": "FileNotFoundError",
     "evalue": "[Errno 2] No such file or directory: 'D:\\\\\\\\Jupyter_Projs\\\\\\\\W\\\\MTBO\\\\\\\\experiment_data\\\\\\\\result_data\\\\\\\\mlp\\\\wine\\\\\\\\wine_trials=50'",
     "output_type": "error",
     "traceback": [
      "\u001b[1;31m---------------------------------------------------------------------------\u001b[0m",
      "\u001b[1;31mFileNotFoundError\u001b[0m                         Traceback (most recent call last)",
      "Input \u001b[1;32mIn [4]\u001b[0m, in \u001b[0;36m<cell line: 2>\u001b[1;34m()\u001b[0m\n\u001b[0;32m      1\u001b[0m data_path \u001b[38;5;241m=\u001b[39m \u001b[38;5;124mr\u001b[39m\u001b[38;5;124m\"\u001b[39m\u001b[38;5;124mD:\u001b[39m\u001b[38;5;130;01m\\\\\u001b[39;00m\u001b[38;5;124mJupyter_Projs\u001b[39m\u001b[38;5;130;01m\\\\\u001b[39;00m\u001b[38;5;124mW\u001b[39m\u001b[38;5;124m\\\u001b[39m\u001b[38;5;124mMTBO\u001b[39m\u001b[38;5;130;01m\\\\\u001b[39;00m\u001b[38;5;124mexperiment_data\u001b[39m\u001b[38;5;130;01m\\\\\u001b[39;00m\u001b[38;5;124mresult_data\u001b[39m\u001b[38;5;130;01m\\\\\u001b[39;00m\u001b[38;5;124mmlp\u001b[39m\u001b[38;5;124m\\\u001b[39m\u001b[38;5;124mwine\u001b[39m\u001b[38;5;130;01m\\\\\u001b[39;00m\u001b[38;5;124mwine_trials=50\u001b[39m\u001b[38;5;124m\"\u001b[39m\n\u001b[1;32m----> 2\u001b[0m \u001b[38;5;28;01mwith\u001b[39;00m \u001b[38;5;28;43mopen\u001b[39;49m\u001b[43m(\u001b[49m\u001b[43mdata_path\u001b[49m\u001b[43m,\u001b[49m\u001b[43m \u001b[49m\u001b[38;5;124;43m'\u001b[39;49m\u001b[38;5;124;43mrb\u001b[39;49m\u001b[38;5;124;43m'\u001b[39;49m\u001b[43m)\u001b[49m \u001b[38;5;28;01mas\u001b[39;00m save_file:\n\u001b[0;32m      3\u001b[0m     result \u001b[38;5;241m=\u001b[39m pickle\u001b[38;5;241m.\u001b[39mload(save_file)\n\u001b[0;32m      5\u001b[0m data_name \u001b[38;5;241m=\u001b[39m \u001b[38;5;124m'\u001b[39m\u001b[38;5;124mwine\u001b[39m\u001b[38;5;124m'\u001b[39m\n",
      "\u001b[1;31mFileNotFoundError\u001b[0m: [Errno 2] No such file or directory: 'D:\\\\\\\\Jupyter_Projs\\\\\\\\W\\\\MTBO\\\\\\\\experiment_data\\\\\\\\result_data\\\\\\\\mlp\\\\wine\\\\\\\\wine_trials=50'"
     ]
    }
   ],
   "source": [
    "data_path = r\"D:\\\\Jupyter_Projs\\\\W\\MTBO\\\\experiment_data\\\\result_data\\\\mlp\\wine\\\\wine_trials=50\"\n",
    "with open(data_path, 'rb') as save_file:\n",
    "    result = pickle.load(save_file)\n",
    "    \n",
    "data_name = 'wine'\n",
    "all_opt_results_dict, x_id_dict, points_dict, select_dict = result[0], result[1], result[2], result[3]\n",
    "cr_list = list(range(len(x_id_dict)))\n",
    "num_task = x_id_dict[0].shape[-3]\n",
    "trials = x_id_dict[0].shape[-2]\n",
    "budget = x_id_dict[0].shape[-1]\n",
    "betat=[1, 1000, 0, 0]\n",
    "betap=[1000, 1000, 1000, 1000]\n",
    "plot_trials(all_opt_results_dict, select_dict=select_dict)"
   ]
  },
  {
   "cell_type": "markdown",
   "id": "aa5aac05",
   "metadata": {},
   "source": [
    "##### select trials of task3"
   ]
  },
  {
   "cell_type": "markdown",
   "id": "e9b00ac9",
   "metadata": {},
   "source": [
    "##### generate new opt_result to plot "
   ]
  },
  {
   "cell_type": "code",
   "execution_count": null,
   "id": "0ac1b2d0",
   "metadata": {},
   "outputs": [],
   "source": []
  }
 ],
 "metadata": {
  "kernelspec": {
   "display_name": "torch",
   "language": "python",
   "name": "torch"
  },
  "language_info": {
   "codemirror_mode": {
    "name": "ipython",
    "version": 3
   },
   "file_extension": ".py",
   "mimetype": "text/x-python",
   "name": "python",
   "nbconvert_exporter": "python",
   "pygments_lexer": "ipython3",
   "version": "3.8.13"
  },
  "toc": {
   "base_numbering": 1,
   "nav_menu": {},
   "number_sections": true,
   "sideBar": true,
   "skip_h1_title": false,
   "title_cell": "Table of Contents",
   "title_sidebar": "Contents",
   "toc_cell": false,
   "toc_position": {},
   "toc_section_display": true,
   "toc_window_display": false
  },
  "varInspector": {
   "cols": {
    "lenName": 16,
    "lenType": 16,
    "lenVar": 40
   },
   "kernels_config": {
    "python": {
     "delete_cmd_postfix": "",
     "delete_cmd_prefix": "del ",
     "library": "var_list.py",
     "varRefreshCmd": "print(var_dic_list())"
    },
    "r": {
     "delete_cmd_postfix": ") ",
     "delete_cmd_prefix": "rm(",
     "library": "var_list.r",
     "varRefreshCmd": "cat(var_dic_list()) "
    }
   },
   "types_to_exclude": [
    "module",
    "function",
    "builtin_function_or_method",
    "instance",
    "_Feature"
   ],
   "window_display": false
  }
 },
 "nbformat": 4,
 "nbformat_minor": 5
}
